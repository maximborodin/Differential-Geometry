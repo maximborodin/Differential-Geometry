{
 "cells": [
  {
   "cell_type": "code",
   "execution_count": 9,
   "metadata": {
    "collapsed": true
   },
   "outputs": [],
   "source": [
    "import sympy"
   ]
  },
  {
   "cell_type": "code",
   "execution_count": 10,
   "metadata": {
    "collapsed": true
   },
   "outputs": [],
   "source": [
    "sympy.init_printing()"
   ]
  },
  {
   "cell_type": "code",
   "execution_count": 46,
   "metadata": {},
   "outputs": [],
   "source": [
    "# Фигура \"Восьмёрка\"\n",
    "u, v = sympy.symbols('u v', real=True)\n",
    "x = sympy.cos(u) * (2 * sympy.sin(v) * sympy.cos(v)) \n",
    "y = sympy.sin(v) \n",
    "z = sympy.sin(u) * (2 * sympy.sin(v) * sympy.cos(v))"
   ]
  },
  {
   "cell_type": "code",
   "execution_count": 47,
   "metadata": {},
   "outputs": [
    {
     "data": {
      "image/png": "[encoded data removed]",
      "text/latex": [
       "$$\\left[\\begin{matrix}- 2 \\sin{\\left (v \\right )} \\cos{\\left (u \\right )} \\cos^{2}{\\left (v \\right )}\\\\\\sin{\\left (4 v \\right )}\\\\- 2 \\sin{\\left (u \\right )} \\sin{\\left (v \\right )} \\cos^{2}{\\left (v \\right )}\\end{matrix}\\right]$$"
      ],
      "text/plain": [
       "⎡                    2   ⎤\n",
       "⎢-2⋅sin(v)⋅cos(u)⋅cos (v)⎥\n",
       "⎢                        ⎥\n",
       "⎢        sin(4⋅v)        ⎥\n",
       "⎢                        ⎥\n",
       "⎢                    2   ⎥\n",
       "⎣-2⋅sin(u)⋅sin(v)⋅cos (v)⎦"
      ]
     },
     "execution_count": 47,
     "metadata": {},
     "output_type": "execute_result"
    }
   ],
   "source": [
    "surface = sympy.Matrix([x, y, z]) #поверхность\n",
    "jacobian = surface.jacobian(sympy.Matrix([u, v]))\n",
    "jacobian.simplify()\n",
    "firstForm = jacobian.transpose() * jacobian #первая форма\n",
    "firstForm.simplify()\n",
    "normalVector = sympy.diff(surface, u).cross(sympy.diff(surface, v))\n",
    "normalVector.normalized() #нормальный вектор\n",
    "normalVector.simplify()\n",
    "normalVector"
   ]
  },
  {
   "cell_type": "code",
   "execution_count": 48,
   "metadata": {},
   "outputs": [
    {
     "data": {
      "image/png": "[encoded data removed]",
      "text/latex": [
       "$$\\left[\\begin{matrix}- \\frac{1}{2} \\cos{\\left (u - 2 v \\right )} + \\frac{1}{2} \\cos{\\left (u + 2 v \\right )} & 2 \\cos{\\left (u \\right )} \\cos{\\left (2 v \\right )}\\\\0 & \\cos{\\left (v \\right )}\\\\- \\frac{1}{2} \\sin{\\left (u - 2 v \\right )} + \\frac{1}{2} \\sin{\\left (u + 2 v \\right )} & 2 \\sin{\\left (u \\right )} \\cos{\\left (2 v \\right )}\\end{matrix}\\right]$$"
      ],
      "text/plain": [
       "⎡  cos(u - 2⋅v)   cos(u + 2⋅v)                   ⎤\n",
       "⎢- ──────────── + ────────────  2⋅cos(u)⋅cos(2⋅v)⎥\n",
       "⎢       2              2                         ⎥\n",
       "⎢                                                ⎥\n",
       "⎢              0                     cos(v)      ⎥\n",
       "⎢                                                ⎥\n",
       "⎢  sin(u - 2⋅v)   sin(u + 2⋅v)                   ⎥\n",
       "⎢- ──────────── + ────────────  2⋅sin(u)⋅cos(2⋅v)⎥\n",
       "⎣       2              2                         ⎦"
      ]
     },
     "execution_count": 48,
     "metadata": {},
     "output_type": "execute_result"
    }
   ],
   "source": [
    "jacobian"
   ]
  },
  {
   "cell_type": "code",
   "execution_count": 49,
   "metadata": {},
   "outputs": [
    {
     "data": {
      "image/png": "[encoded data removed]",
      "text/latex": [
       "$$\\left[\\begin{matrix}- \\frac{1}{2} \\cos{\\left (4 v \\right )} + \\frac{1}{2} & 0\\\\0 & 16 \\sin^{4}{\\left (v \\right )} - 17 \\sin^{2}{\\left (v \\right )} + 5\\end{matrix}\\right]$$"
      ],
      "text/plain": [
       "⎡  cos(4⋅v)   1                             ⎤\n",
       "⎢- ──────── + ─               0             ⎥\n",
       "⎢     2       2                             ⎥\n",
       "⎢                                           ⎥\n",
       "⎢                      4            2       ⎥\n",
       "⎣      0         16⋅sin (v) - 17⋅sin (v) + 5⎦"
      ]
     },
     "execution_count": 49,
     "metadata": {},
     "output_type": "execute_result"
    }
   ],
   "source": [
    "firstForm"
   ]
  },
  {
   "cell_type": "code",
   "execution_count": 50,
   "metadata": {},
   "outputs": [
    {
     "data": {
      "image/png": "[encoded data removed]",
      "text/latex": [
       "$$\\left[\\begin{matrix}4 \\sin^{2}{\\left (v \\right )} \\cos^{3}{\\left (v \\right )} & 0\\\\0 & - 8 \\cos^{5}{\\left (v \\right )} + 4 \\cos^{3}{\\left (v \\right )} + 4 \\cos{\\left (v \\right )}\\end{matrix}\\right]$$"
      ],
      "text/plain": [
       "⎡     2       3                                       ⎤\n",
       "⎢4⋅sin (v)⋅cos (v)                  0                 ⎥\n",
       "⎢                                                     ⎥\n",
       "⎢                          5           3              ⎥\n",
       "⎣        0          - 8⋅cos (v) + 4⋅cos (v) + 4⋅cos(v)⎦"
      ]
     },
     "execution_count": 50,
     "metadata": {},
     "output_type": "execute_result"
    }
   ],
   "source": [
    "secondForm = jacobian.transpose() * normalVector.jacobian(sympy.Matrix([u, v])) * (-1)\n",
    "secondForm.simplify()\n",
    "secondForm"
   ]
  },
  {
   "cell_type": "code",
   "execution_count": 51,
   "metadata": {},
   "outputs": [
    {
     "name": "stdout",
     "output_type": "stream",
     "text": [
      "f = (-8*cos(v)**5 + 4*cos(v)**3 + 4*cos(v))/(2*(16*sin(v)**4 - 17*sin(v)**2 + 5)) + 2*sin(v)**2*cos(v)**3/(-cos(4*v)/2 + 1/2)\n"
     ]
    }
   ],
   "source": [
    "#используем формулу Эйлера (так как главные направления перпендикулярны, cos^2(a) = sin^2(a) = 1/2\n",
    "result = sympy.trace(secondForm * firstForm.inv()) / 2 \n",
    "result.simplify()\n",
    "print('f =', result)"
   ]
  },
  {
   "cell_type": "code",
   "execution_count": null,
   "metadata": {
    "collapsed": true
   },
   "outputs": [],
   "source": []
  }
 ],
 "metadata": {
  "kernelspec": {
   "display_name": "Python 3",
   "language": "python",
   "name": "python3"
  },
  "language_info": {
   "codemirror_mode": {
    "name": "ipython",
    "version": 3
   },
   "file_extension": ".py",
   "mimetype": "text/x-python",
   "name": "python",
   "nbconvert_exporter": "python",
   "pygments_lexer": "ipython3",
   "version": "3.6.1"
  }
 },
 "nbformat": 4,
 "nbformat_minor": 2
}
